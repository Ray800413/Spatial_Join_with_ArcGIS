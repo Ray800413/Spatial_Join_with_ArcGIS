{
 "cells": [
  {
   "cell_type": "markdown",
   "metadata": {},
   "source": [
    "# <center>Spatial Join with ArcGIS\n",
    "<img src=\"https://github.com/Ray800413/Spatial_Join_with_ArcGIS/blob/master/image/spatial_join.png?raw=true\" style=\"width:800px;\">"
   ]
  },
  {
   "cell_type": "markdown",
   "metadata": {},
   "source": [
    "## 1. Introduction\n",
    "This jupyter notebook is the training tutorial for the use of the `Spatial Join` tool. This training tutorial assumes you already have the intermediate level of knowledge of the **_Spatial Join_** and the basic understanding of **_FieldMaps_**. It also assumes that you are familiar with other geospatial tools, such as the `Select Layers by Attribute` and `Clip` tool. In order to complete this training tutorial smoothly, except for the skills of using `Arcpy` scripts, you should have basic understanding of the libaries coming along with `Python`, such as `pandas` and `regex`, as well.\n",
    "\n",
    "For this tutorial, we will use two data: **(1) Car accident data in Minnesota in 2016 (named \"mn-2016-acc.csv\") (2) Minnesota County shapefile (named \"County_Boundaries_in_Minnesota\" in \"shp_bdry_counties\" folder)** to answer some statistical questions such as identify which county has the highest fatal number caused by accidents and what type of accident most frequently occured in each county."
   ]
  },
  {
   "cell_type": "markdown",
   "metadata": {},
   "source": [
    "## 2. Workflow"
   ]
  },
  {
   "cell_type": "markdown",
   "metadata": {},
   "source": [
    "### 2.1 Data Munging"
   ]
  },
  {
   "cell_type": "markdown",
   "metadata": {},
   "source": [
    "Before we get started to analyze the data, we often need to perform some cleanup tasks to ensure that it is in a good shape that we are able to work with."
   ]
  },
  {
   "cell_type": "markdown",
   "metadata": {},
   "source": [
    "#### 2.1.1 Working with pandas"
   ]
  },
  {
   "cell_type": "markdown",
   "metadata": {},
   "source": [
    "`pandas` is a useful python module that can help you facilitate data munging. In the cells below, we will first read our data and then select out the columns that are neeeded for analysis later on. \n",
    "\n",
    "For more information about `pandas`, please refer to [this documentation](https://pandas.pydata.org/pandas-docs/stable/index.html)"
   ]
  },
  {
   "cell_type": "code",
   "execution_count": 1,
   "metadata": {},
   "outputs": [],
   "source": [
    "# Import pandas module\n",
    "import pandas as pd"
   ]
  },
  {
   "cell_type": "code",
   "execution_count": 2,
   "metadata": {},
   "outputs": [
    {
     "data": {
      "text/html": [
       "<div>\n",
       "<style scoped>\n",
       "    .dataframe tbody tr th:only-of-type {\n",
       "        vertical-align: middle;\n",
       "    }\n",
       "\n",
       "    .dataframe tbody tr th {\n",
       "        vertical-align: top;\n",
       "    }\n",
       "\n",
       "    .dataframe thead th {\n",
       "        text-align: right;\n",
       "    }\n",
       "</style>\n",
       "<table border=\"1\" class=\"dataframe\">\n",
       "  <thead>\n",
       "    <tr style=\"text-align: right;\">\n",
       "      <th></th>\n",
       "      <th>ACCN</th>\n",
       "      <th>AGENCY</th>\n",
       "      <th>LOCCASE</th>\n",
       "      <th>HITRUN</th>\n",
       "      <th>PROPDAM</th>\n",
       "      <th>NUMMV</th>\n",
       "      <th>NUMFAT</th>\n",
       "      <th>NUMINJ</th>\n",
       "      <th>DOLMIN</th>\n",
       "      <th>ACCDATE</th>\n",
       "      <th>...</th>\n",
       "      <th>RTSYS</th>\n",
       "      <th>WKZNREL</th>\n",
       "      <th>CITY</th>\n",
       "      <th>XCOORD</th>\n",
       "      <th>YCOORD</th>\n",
       "      <th>TOWNSHIP</th>\n",
       "      <th>ACCTIME</th>\n",
       "      <th>URBRURT</th>\n",
       "      <th>ACCDAY</th>\n",
       "      <th>ACCYEAR</th>\n",
       "    </tr>\n",
       "  </thead>\n",
       "  <tbody>\n",
       "    <tr>\n",
       "      <th>0</th>\n",
       "      <td>80001</td>\n",
       "      <td>3280</td>\n",
       "      <td>BEP16-0101</td>\n",
       "      <td>2</td>\n",
       "      <td>5</td>\n",
       "      <td>2</td>\n",
       "      <td>0</td>\n",
       "      <td>0</td>\n",
       "      <td>1.0</td>\n",
       "      <td>1/8/2016</td>\n",
       "      <td>...</td>\n",
       "      <td>2.0</td>\n",
       "      <td>2</td>\n",
       "      <td>390</td>\n",
       "      <td>43.64485697</td>\n",
       "      <td>-94.09181618</td>\n",
       "      <td>.</td>\n",
       "      <td>1705</td>\n",
       "      <td>7</td>\n",
       "      <td>6</td>\n",
       "      <td>2016</td>\n",
       "    </tr>\n",
       "  </tbody>\n",
       "</table>\n",
       "<p>1 rows × 49 columns</p>\n",
       "</div>"
      ],
      "text/plain": [
       "    ACCN  AGENCY     LOCCASE  HITRUN  PROPDAM  NUMMV  NUMFAT  NUMINJ  DOLMIN  \\\n",
       "0  80001    3280  BEP16-0101       2        5      2       0       0     1.0   \n",
       "\n",
       "    ACCDATE   ...     RTSYS WKZNREL CITY       XCOORD        YCOORD  TOWNSHIP  \\\n",
       "0  1/8/2016   ...       2.0       2  390  43.64485697  -94.09181618         .   \n",
       "\n",
       "   ACCTIME  URBRURT  ACCDAY  ACCYEAR  \n",
       "0     1705        7       6     2016  \n",
       "\n",
       "[1 rows x 49 columns]"
      ]
     },
     "execution_count": 2,
     "metadata": {},
     "output_type": "execute_result"
    }
   ],
   "source": [
    "# Read the file into dataframe. \n",
    "df = pd.read_csv(\"mn-2016-acc.csv\", low_memory = False)\n",
    "df.head(1)"
   ]
  },
  {
   "cell_type": "code",
   "execution_count": 3,
   "metadata": {},
   "outputs": [
    {
     "data": {
      "text/plain": [
       "Index(['ACCN', 'AGENCY', 'LOCCASE', 'HITRUN', 'PROPDAM', 'NUMMV', 'NUMFAT',\n",
       "       'NUMINJ', 'DOLMIN', 'ACCDATE', 'COUNTY', 'CITYTWP', 'CITYNAME',\n",
       "       'ACCTYPE', 'SBUS', 'LOCFHE', 'BRIDGE', 'WKZNTYPE', 'LOCWKZN', 'WORKERS',\n",
       "       'RDSURF', 'INTREL', 'WEATHER1', 'WEATHER2', 'LIGHT', 'DIAGRAM',\n",
       "       'OFFTYPE', 'INTERSECT', 'ACCSEV', 'CFR1', 'CFR2', 'FATAL', 'FATWKZN',\n",
       "       'INJURY', 'INTYPE', 'LANDOWN', 'LEPRES', 'NUMNM', 'ONROAD', 'RTSYS',\n",
       "       'WKZNREL', 'CITY', 'XCOORD', 'YCOORD', 'TOWNSHIP', 'ACCTIME', 'URBRURT',\n",
       "       'ACCDAY', 'ACCYEAR'],\n",
       "      dtype='object')"
      ]
     },
     "execution_count": 3,
     "metadata": {},
     "output_type": "execute_result"
    }
   ],
   "source": [
    "#Let's see all the columns' name.\n",
    "df.columns"
   ]
  },
  {
   "cell_type": "code",
   "execution_count": 4,
   "metadata": {},
   "outputs": [
    {
     "data": {
      "text/html": [
       "<div>\n",
       "<style scoped>\n",
       "    .dataframe tbody tr th:only-of-type {\n",
       "        vertical-align: middle;\n",
       "    }\n",
       "\n",
       "    .dataframe tbody tr th {\n",
       "        vertical-align: top;\n",
       "    }\n",
       "\n",
       "    .dataframe thead th {\n",
       "        text-align: right;\n",
       "    }\n",
       "</style>\n",
       "<table border=\"1\" class=\"dataframe\">\n",
       "  <thead>\n",
       "    <tr style=\"text-align: right;\">\n",
       "      <th></th>\n",
       "      <th>ACCTYPE</th>\n",
       "      <th>FATAL</th>\n",
       "      <th>NUMFAT</th>\n",
       "      <th>INJURY</th>\n",
       "      <th>NUMINJ</th>\n",
       "      <th>ACCDAY</th>\n",
       "      <th>COUNTY</th>\n",
       "      <th>XCOORD</th>\n",
       "      <th>YCOORD</th>\n",
       "      <th>ACCDATE</th>\n",
       "    </tr>\n",
       "  </thead>\n",
       "  <tbody>\n",
       "    <tr>\n",
       "      <th>0</th>\n",
       "      <td>10</td>\n",
       "      <td>2</td>\n",
       "      <td>0</td>\n",
       "      <td>2</td>\n",
       "      <td>0</td>\n",
       "      <td>6</td>\n",
       "      <td>22</td>\n",
       "      <td>43.64485697</td>\n",
       "      <td>-94.09181618</td>\n",
       "      <td>1/8/2016</td>\n",
       "    </tr>\n",
       "    <tr>\n",
       "      <th>1</th>\n",
       "      <td>11</td>\n",
       "      <td>2</td>\n",
       "      <td>0</td>\n",
       "      <td>2</td>\n",
       "      <td>0</td>\n",
       "      <td>6</td>\n",
       "      <td>47</td>\n",
       "      <td>45.31667467</td>\n",
       "      <td>-94.40934696</td>\n",
       "      <td>7/22/2016</td>\n",
       "    </tr>\n",
       "    <tr>\n",
       "      <th>2</th>\n",
       "      <td>28</td>\n",
       "      <td>2</td>\n",
       "      <td>0</td>\n",
       "      <td>2</td>\n",
       "      <td>0</td>\n",
       "      <td>2</td>\n",
       "      <td>73</td>\n",
       "      <td>45.55586262</td>\n",
       "      <td>-94.18532244</td>\n",
       "      <td>12/5/2016</td>\n",
       "    </tr>\n",
       "    <tr>\n",
       "      <th>3</th>\n",
       "      <td>10</td>\n",
       "      <td>2</td>\n",
       "      <td>0</td>\n",
       "      <td>2</td>\n",
       "      <td>0</td>\n",
       "      <td>2</td>\n",
       "      <td>62</td>\n",
       "      <td>44.94822768</td>\n",
       "      <td>-93.09167463</td>\n",
       "      <td>10/17/2016</td>\n",
       "    </tr>\n",
       "    <tr>\n",
       "      <th>4</th>\n",
       "      <td>10</td>\n",
       "      <td>2</td>\n",
       "      <td>0</td>\n",
       "      <td>1</td>\n",
       "      <td>2</td>\n",
       "      <td>5</td>\n",
       "      <td>27</td>\n",
       "      <td>.</td>\n",
       "      <td>.</td>\n",
       "      <td>10/6/2016</td>\n",
       "    </tr>\n",
       "  </tbody>\n",
       "</table>\n",
       "</div>"
      ],
      "text/plain": [
       "   ACCTYPE  FATAL  NUMFAT  INJURY  NUMINJ  ACCDAY  COUNTY       XCOORD  \\\n",
       "0       10      2       0       2       0       6      22  43.64485697   \n",
       "1       11      2       0       2       0       6      47  45.31667467   \n",
       "2       28      2       0       2       0       2      73  45.55586262   \n",
       "3       10      2       0       2       0       2      62  44.94822768   \n",
       "4       10      2       0       1       2       5      27            .   \n",
       "\n",
       "         YCOORD     ACCDATE  \n",
       "0  -94.09181618    1/8/2016  \n",
       "1  -94.40934696   7/22/2016  \n",
       "2  -94.18532244   12/5/2016  \n",
       "3  -93.09167463  10/17/2016  \n",
       "4             .   10/6/2016  "
      ]
     },
     "execution_count": 4,
     "metadata": {},
     "output_type": "execute_result"
    }
   ],
   "source": [
    "# Slice out the columns that include information we need for analysis. \n",
    "# ACCTYPE = accident type; FATAL = fatal or non fatal; NUMFAT = fatal number; \n",
    "# INJURY = injury or non injury; NUMINJ = injury number; ACCDAY = weekday of accident;\n",
    "# COUNTY = county of accident; YCOORD = longitude of acciden;, XCOORD = latitude of accident; \n",
    "# ACCDATE = date of accident\n",
    "df1 = df[[\"ACCTYPE\", \"FATAL\",\"NUMFAT\", \"INJURY\",\"NUMINJ\", \n",
    "          \"ACCDAY\", \"COUNTY\", 'XCOORD', 'YCOORD', \"ACCDATE\"]]\n",
    "\n",
    "# Print first 5 rows to check it the output is correct\n",
    "df1.head()"
   ]
  },
  {
   "cell_type": "markdown",
   "metadata": {},
   "source": [
    "In the above output, you can see that cells containing x and y coordinate information have some records missing these values and are represented by `.`. These records are not applicable for usage so the next step is to remove them from our data."
   ]
  },
  {
   "cell_type": "code",
   "execution_count": 5,
   "metadata": {},
   "outputs": [
    {
     "data": {
      "text/html": [
       "<div>\n",
       "<style scoped>\n",
       "    .dataframe tbody tr th:only-of-type {\n",
       "        vertical-align: middle;\n",
       "    }\n",
       "\n",
       "    .dataframe tbody tr th {\n",
       "        vertical-align: top;\n",
       "    }\n",
       "\n",
       "    .dataframe thead th {\n",
       "        text-align: right;\n",
       "    }\n",
       "</style>\n",
       "<table border=\"1\" class=\"dataframe\">\n",
       "  <thead>\n",
       "    <tr style=\"text-align: right;\">\n",
       "      <th></th>\n",
       "      <th>ACCTYPE</th>\n",
       "      <th>FATAL</th>\n",
       "      <th>NUMFAT</th>\n",
       "      <th>INJURY</th>\n",
       "      <th>NUMINJ</th>\n",
       "      <th>ACCDAY</th>\n",
       "      <th>COUNTY</th>\n",
       "      <th>XCOORD</th>\n",
       "      <th>YCOORD</th>\n",
       "      <th>ACCDATE</th>\n",
       "    </tr>\n",
       "  </thead>\n",
       "  <tbody>\n",
       "    <tr>\n",
       "      <th>0</th>\n",
       "      <td>10</td>\n",
       "      <td>2</td>\n",
       "      <td>0</td>\n",
       "      <td>2</td>\n",
       "      <td>0</td>\n",
       "      <td>6</td>\n",
       "      <td>22</td>\n",
       "      <td>43.64485697</td>\n",
       "      <td>-94.09181618</td>\n",
       "      <td>1/8/2016</td>\n",
       "    </tr>\n",
       "    <tr>\n",
       "      <th>1</th>\n",
       "      <td>11</td>\n",
       "      <td>2</td>\n",
       "      <td>0</td>\n",
       "      <td>2</td>\n",
       "      <td>0</td>\n",
       "      <td>6</td>\n",
       "      <td>47</td>\n",
       "      <td>45.31667467</td>\n",
       "      <td>-94.40934696</td>\n",
       "      <td>7/22/2016</td>\n",
       "    </tr>\n",
       "    <tr>\n",
       "      <th>2</th>\n",
       "      <td>28</td>\n",
       "      <td>2</td>\n",
       "      <td>0</td>\n",
       "      <td>2</td>\n",
       "      <td>0</td>\n",
       "      <td>2</td>\n",
       "      <td>73</td>\n",
       "      <td>45.55586262</td>\n",
       "      <td>-94.18532244</td>\n",
       "      <td>12/5/2016</td>\n",
       "    </tr>\n",
       "    <tr>\n",
       "      <th>3</th>\n",
       "      <td>10</td>\n",
       "      <td>2</td>\n",
       "      <td>0</td>\n",
       "      <td>2</td>\n",
       "      <td>0</td>\n",
       "      <td>2</td>\n",
       "      <td>62</td>\n",
       "      <td>44.94822768</td>\n",
       "      <td>-93.09167463</td>\n",
       "      <td>10/17/2016</td>\n",
       "    </tr>\n",
       "    <tr>\n",
       "      <th>5</th>\n",
       "      <td>69</td>\n",
       "      <td>2</td>\n",
       "      <td>0</td>\n",
       "      <td>2</td>\n",
       "      <td>0</td>\n",
       "      <td>6</td>\n",
       "      <td>62</td>\n",
       "      <td>44.93412681</td>\n",
       "      <td>-93.1462896</td>\n",
       "      <td>1/1/2016</td>\n",
       "    </tr>\n",
       "  </tbody>\n",
       "</table>\n",
       "</div>"
      ],
      "text/plain": [
       "   ACCTYPE  FATAL  NUMFAT  INJURY  NUMINJ  ACCDAY  COUNTY       XCOORD  \\\n",
       "0       10      2       0       2       0       6      22  43.64485697   \n",
       "1       11      2       0       2       0       6      47  45.31667467   \n",
       "2       28      2       0       2       0       2      73  45.55586262   \n",
       "3       10      2       0       2       0       2      62  44.94822768   \n",
       "5       69      2       0       2       0       6      62  44.93412681   \n",
       "\n",
       "         YCOORD     ACCDATE  \n",
       "0  -94.09181618    1/8/2016  \n",
       "1  -94.40934696   7/22/2016  \n",
       "2  -94.18532244   12/5/2016  \n",
       "3  -93.09167463  10/17/2016  \n",
       "5   -93.1462896    1/1/2016  "
      ]
     },
     "execution_count": 5,
     "metadata": {},
     "output_type": "execute_result"
    }
   ],
   "source": [
    "# Slice out the rows do not contain \".\" in coordinate cells\n",
    "df2 = df1[df1.XCOORD != \".\"]\n",
    "# Check the result\n",
    "df2.head()"
   ]
  },
  {
   "cell_type": "markdown",
   "metadata": {},
   "source": [
    "Now, we are going to check out the data type of each column to ensure they are in the applicable type. "
   ]
  },
  {
   "cell_type": "code",
   "execution_count": 6,
   "metadata": {},
   "outputs": [
    {
     "data": {
      "text/plain": [
       "ACCTYPE     int64\n",
       "FATAL       int64\n",
       "NUMFAT      int64\n",
       "INJURY      int64\n",
       "NUMINJ      int64\n",
       "ACCDAY      int64\n",
       "COUNTY      int64\n",
       "XCOORD     object\n",
       "YCOORD     object\n",
       "ACCDATE    object\n",
       "dtype: object"
      ]
     },
     "execution_count": 6,
     "metadata": {},
     "output_type": "execute_result"
    }
   ],
   "source": [
    "# Check columns' datatype\n",
    "df2.dtypes"
   ]
  },
  {
   "cell_type": "code",
   "execution_count": 7,
   "metadata": {},
   "outputs": [
    {
     "data": {
      "text/plain": [
       "ACCTYPE      int64\n",
       "FATAL        int64\n",
       "NUMFAT       int64\n",
       "INJURY       int64\n",
       "NUMINJ       int64\n",
       "ACCDAY       int64\n",
       "COUNTY      object\n",
       "XCOORD     float64\n",
       "YCOORD     float64\n",
       "ACCDATE     object\n",
       "dtype: object"
      ]
     },
     "execution_count": 7,
     "metadata": {},
     "output_type": "execute_result"
    }
   ],
   "source": [
    "# Convert fields to desired data types\n",
    "# Convert \"County\" type will help us slice our needed counties easier\n",
    "# Coordinate fields need to be converted to float for future usage\n",
    "df3 = df2.astype({\"COUNTY\": \"str\", \"XCOORD\":\"float\", \"YCOORD\": \"float\"})\n",
    "\n",
    "# Check the result\n",
    "df3.dtypes"
   ]
  },
  {
   "cell_type": "markdown",
   "metadata": {},
   "source": [
    "Since in our later analysis, we would like to know which month has the most occurence of accidents. We need to slice month information out from the \"ACCDATE\" field. To do so, we would take advantage of `regex`.\n",
    "\n",
    "For more information about `regex`, please refer to [this documentation](https://docs.python.org/3/library/re.html#)"
   ]
  },
  {
   "cell_type": "code",
   "execution_count": 8,
   "metadata": {},
   "outputs": [],
   "source": [
    "# Import re module\n",
    "import re"
   ]
  },
  {
   "cell_type": "code",
   "execution_count": 9,
   "metadata": {},
   "outputs": [
    {
     "data": {
      "text/html": [
       "<div>\n",
       "<style scoped>\n",
       "    .dataframe tbody tr th:only-of-type {\n",
       "        vertical-align: middle;\n",
       "    }\n",
       "\n",
       "    .dataframe tbody tr th {\n",
       "        vertical-align: top;\n",
       "    }\n",
       "\n",
       "    .dataframe thead th {\n",
       "        text-align: right;\n",
       "    }\n",
       "</style>\n",
       "<table border=\"1\" class=\"dataframe\">\n",
       "  <thead>\n",
       "    <tr style=\"text-align: right;\">\n",
       "      <th></th>\n",
       "      <th>ACCTYPE</th>\n",
       "      <th>FATAL</th>\n",
       "      <th>NUMFAT</th>\n",
       "      <th>INJURY</th>\n",
       "      <th>NUMINJ</th>\n",
       "      <th>ACCDAY</th>\n",
       "      <th>COUNTY</th>\n",
       "      <th>XCOORD</th>\n",
       "      <th>YCOORD</th>\n",
       "      <th>ACCDATE</th>\n",
       "      <th>MONTH</th>\n",
       "    </tr>\n",
       "  </thead>\n",
       "  <tbody>\n",
       "    <tr>\n",
       "      <th>0</th>\n",
       "      <td>10</td>\n",
       "      <td>2</td>\n",
       "      <td>0</td>\n",
       "      <td>2</td>\n",
       "      <td>0</td>\n",
       "      <td>6</td>\n",
       "      <td>22</td>\n",
       "      <td>43.644857</td>\n",
       "      <td>-94.091816</td>\n",
       "      <td>1/8/2016</td>\n",
       "      <td>1</td>\n",
       "    </tr>\n",
       "    <tr>\n",
       "      <th>1</th>\n",
       "      <td>11</td>\n",
       "      <td>2</td>\n",
       "      <td>0</td>\n",
       "      <td>2</td>\n",
       "      <td>0</td>\n",
       "      <td>6</td>\n",
       "      <td>47</td>\n",
       "      <td>45.316675</td>\n",
       "      <td>-94.409347</td>\n",
       "      <td>7/22/2016</td>\n",
       "      <td>7</td>\n",
       "    </tr>\n",
       "    <tr>\n",
       "      <th>2</th>\n",
       "      <td>28</td>\n",
       "      <td>2</td>\n",
       "      <td>0</td>\n",
       "      <td>2</td>\n",
       "      <td>0</td>\n",
       "      <td>2</td>\n",
       "      <td>73</td>\n",
       "      <td>45.555863</td>\n",
       "      <td>-94.185322</td>\n",
       "      <td>12/5/2016</td>\n",
       "      <td>12</td>\n",
       "    </tr>\n",
       "    <tr>\n",
       "      <th>3</th>\n",
       "      <td>10</td>\n",
       "      <td>2</td>\n",
       "      <td>0</td>\n",
       "      <td>2</td>\n",
       "      <td>0</td>\n",
       "      <td>2</td>\n",
       "      <td>62</td>\n",
       "      <td>44.948228</td>\n",
       "      <td>-93.091675</td>\n",
       "      <td>10/17/2016</td>\n",
       "      <td>10</td>\n",
       "    </tr>\n",
       "    <tr>\n",
       "      <th>5</th>\n",
       "      <td>69</td>\n",
       "      <td>2</td>\n",
       "      <td>0</td>\n",
       "      <td>2</td>\n",
       "      <td>0</td>\n",
       "      <td>6</td>\n",
       "      <td>62</td>\n",
       "      <td>44.934127</td>\n",
       "      <td>-93.146290</td>\n",
       "      <td>1/1/2016</td>\n",
       "      <td>1</td>\n",
       "    </tr>\n",
       "  </tbody>\n",
       "</table>\n",
       "</div>"
      ],
      "text/plain": [
       "   ACCTYPE  FATAL  NUMFAT  INJURY  NUMINJ  ACCDAY COUNTY     XCOORD  \\\n",
       "0       10      2       0       2       0       6     22  43.644857   \n",
       "1       11      2       0       2       0       6     47  45.316675   \n",
       "2       28      2       0       2       0       2     73  45.555863   \n",
       "3       10      2       0       2       0       2     62  44.948228   \n",
       "5       69      2       0       2       0       6     62  44.934127   \n",
       "\n",
       "      YCOORD     ACCDATE MONTH  \n",
       "0 -94.091816    1/8/2016     1  \n",
       "1 -94.409347   7/22/2016     7  \n",
       "2 -94.185322   12/5/2016    12  \n",
       "3 -93.091675  10/17/2016    10  \n",
       "5 -93.146290    1/1/2016     1  "
      ]
     },
     "execution_count": 9,
     "metadata": {},
     "output_type": "execute_result"
    }
   ],
   "source": [
    "# Create a pattern object to extract month infomation\n",
    "p = re.compile(r\"(\\w+)/.+/.+\")\n",
    "\n",
    "# Add a new field to store month information\n",
    "df3[\"MONTH\"] = df3.ACCDATE.str.extract(p)\n",
    "\n",
    "# Display the first five rows to check the code executed correctly\n",
    "df3.head()"
   ]
  },
  {
   "cell_type": "markdown",
   "metadata": {},
   "source": [
    "The spatial extent of the accidents data cover the entire state of Minnesota; however, we are only interested in the accidents occured in the Metro city of Minnesota. Therefore, we will extract the accidents records in the Metro city in the following cells. "
   ]
  },
  {
   "cell_type": "code",
   "execution_count": 10,
   "metadata": {},
   "outputs": [
    {
     "data": {
      "text/plain": [
       "count     45958\n",
       "unique        7\n",
       "top          27\n",
       "freq      21857\n",
       "Name: COUNTY, dtype: object"
      ]
     },
     "execution_count": 10,
     "metadata": {},
     "output_type": "execute_result"
    }
   ],
   "source": [
    "# Create a list to store FIP code of seven counties\n",
    "counties = [\"2\", \"27\", \"82\", \"62\", \"70\", \"10\", \"19\"]\n",
    "\n",
    "# Preserve the rows that have the above county code inside\n",
    "df4 = df3[df3[\"COUNTY\"].isin(counties)]\n",
    "\n",
    "# Display the COUNTY field information to see if only seven counties are preserved\n",
    "df4.COUNTY.describe()"
   ]
  },
  {
   "cell_type": "code",
   "execution_count": 11,
   "metadata": {},
   "outputs": [
    {
     "name": "stderr",
     "output_type": "stream",
     "text": [
      "C:\\Program Files\\ArcGIS\\Pro\\bin\\Python\\envs\\arcgispro-py3\\lib\\site-packages\\ipykernel_launcher.py:2: SettingWithCopyWarning: \n",
      "A value is trying to be set on a copy of a slice from a DataFrame.\n",
      "Try using .loc[row_indexer,col_indexer] = value instead\n",
      "\n",
      "See the caveats in the documentation: http://pandas.pydata.org/pandas-docs/stable/indexing.html#indexing-view-versus-copy\n",
      "  \n"
     ]
    },
    {
     "data": {
      "text/plain": [
       "dtype('int32')"
      ]
     },
     "execution_count": 11,
     "metadata": {},
     "output_type": "execute_result"
    }
   ],
   "source": [
    "# Covert data type of MONTH field to integer\n",
    "df4['MONTH'] = df4['MONTH'].astype(\"int\")\n",
    "\n",
    "# Check the result\n",
    "df4[\"MONTH\"].dtypes"
   ]
  },
  {
   "cell_type": "code",
   "execution_count": 12,
   "metadata": {},
   "outputs": [],
   "source": [
    "# Save the dataframe to csv file\n",
    "df4.to_csv(\"Traffic Accidents in Metro1.csv\", index = False)"
   ]
  },
  {
   "cell_type": "markdown",
   "metadata": {},
   "source": [
    "Excellent!! Right now, we have finished our accidents data cleanup and it is ready to use. Recaping from the above cells, you used `pandas` module to manage and modify your data in several lines of succinct codes and `regext` module to extract needed information in an efficient manner. Imagine the time you need to spend if you want to do these tasks if you working in Excel. They really make our life much easier, right? "
   ]
  },
  {
   "cell_type": "markdown",
   "metadata": {},
   "source": [
    "#### 2.1.2 Working with arcpy"
   ]
  },
  {
   "cell_type": "markdown",
   "metadata": {},
   "source": [
    "In the following cells, we are going to work using `Arcpy`. `ArcPy` is a Python site package that provides a useful and productive way to perform geographic data analysis, data conversion, data management, and map automation with Python developed my Esri. \n",
    "\n",
    "For more information about `Arcpy`, please refer to thie [Esri Help Documentation](https://pro.arcgis.com/en/pro-app/arcpy/get-started/what-is-arcpy-.htm)"
   ]
  },
  {
   "cell_type": "code",
   "execution_count": 13,
   "metadata": {},
   "outputs": [],
   "source": [
    "# Import Arcpy module\n",
    "import arcpy"
   ]
  },
  {
   "cell_type": "markdown",
   "metadata": {},
   "source": [
    "One important notes before analysis is to set the working environment for `Arcpy`. This is pretty similar to the concept of initializing the project folder when you are creating a new project in ArcGIS Pro or ArcMap. ArcGIS will automatically create a new file geodatabase for you and your analysis output will be stored in that filed geodatabase by default. "
   ]
  },
  {
   "cell_type": "code",
   "execution_count": 14,
   "metadata": {},
   "outputs": [],
   "source": [
    "# Set up your current working direectory\n",
    "current_dir = r\"C:\\Users\\user\\Documents\\ArcGIS\\Projects\"\n",
    "# Set up your analysis workspace\n",
    "arcpy.env.workspace = current_dir + r\"\\Assignment 7\\Assignment 7.gdb\"\n",
    "# Allow file overwritting\n",
    "arcpy.env.overwriteOutput = True\n",
    "# Set the workspace outputCoordinateSystem environment\n",
    "# This setting will automatically convert your analysis output layer to this projected system\n",
    "arcpy.env.outputCoordinateSystem = arcpy.SpatialReference(26915)"
   ]
  },
  {
   "cell_type": "markdown",
   "metadata": {},
   "source": [
    "##### Display accidents based on their coordinates"
   ]
  },
  {
   "cell_type": "markdown",
   "metadata": {},
   "source": [
    "In the cells below, we are going to plot accidents to a point feature class based on their coordinates information."
   ]
  },
  {
   "cell_type": "code",
   "execution_count": 15,
   "metadata": {},
   "outputs": [],
   "source": [
    "# Set path to input file and create output file name\n",
    "# The input file is the csv file we created above\n",
    "input_file = current_dir + r\"\\Assignment 7_script\\Traffic Accidents in Metro.csv\"\n",
    "output_file = \"Traffic_Accidents\""
   ]
  },
  {
   "cell_type": "code",
   "execution_count": 16,
   "metadata": {},
   "outputs": [
    {
     "data": {
      "text/plain": [
       "<Result 'C:\\\\Users\\\\user\\\\Documents\\\\ArcGIS\\\\Projects\\\\Assignment 7\\\\Assignment 7.gdb\\\\Traffic_Accidents'>"
      ]
     },
     "execution_count": 16,
     "metadata": {},
     "output_type": "execute_result"
    }
   ],
   "source": [
    "# Run the \"XY Table To Point\" tool\n",
    "arcpy.management.XYTableToPoint(input_file, output_file, \n",
    "                                x_field = \"YCOORD\", y_field = \"XCOORD\")"
   ]
  },
  {
   "cell_type": "code",
   "execution_count": 17,
   "metadata": {},
   "outputs": [
    {
     "data": {
      "text/plain": [
       "'NAD_1983_UTM_Zone_15N'"
      ]
     },
     "execution_count": 17,
     "metadata": {},
     "output_type": "execute_result"
    }
   ],
   "source": [
    "# Check the coordinate system\n",
    "arcpy.Describe(output_file).SpatialReference.Name"
   ]
  },
  {
   "cell_type": "markdown",
   "metadata": {},
   "source": [
    "##### Study Area Selection"
   ]
  },
  {
   "cell_type": "markdown",
   "metadata": {},
   "source": [
    "The county shapefile covers the entire counties in the state of Minnesota, so we need to slice out counties in the Metro city"
   ]
  },
  {
   "cell_type": "code",
   "execution_count": 18,
   "metadata": {},
   "outputs": [],
   "source": [
    "# Set up the path to county shapefile\n",
    "study_area = current_dir + r\"\\Assignment 7\\Data\\shp_bdry_counties\\County_Boundaries_in_Minnesota.shp\""
   ]
  },
  {
   "cell_type": "code",
   "execution_count": 19,
   "metadata": {},
   "outputs": [
    {
     "name": "stdout",
     "output_type": "stream",
     "text": [
      "FID : OID\n",
      "Shape : Geometry\n",
      "COUNTY_NAM : String\n",
      "COUNTY_COD : String\n",
      "COUNTY_FIP : String\n",
      "COUNTY_GNI : Integer\n",
      "ATP_CODE : String\n",
      "SHAPE_Leng : Double\n",
      "SHAPE_Area : Double\n"
     ]
    }
   ],
   "source": [
    "# Read the fields containing in the shapefile and diplay their names and types\n",
    "# Using the \"ListFields\" function\n",
    "fieldlist = arcpy.ListFields(study_area)\n",
    "for field in fieldlist:\n",
    "    print(field.name,\":\", field.type)"
   ]
  },
  {
   "cell_type": "code",
   "execution_count": 20,
   "metadata": {},
   "outputs": [
    {
     "name": "stdout",
     "output_type": "stream",
     "text": [
      "COUNTY_FIP: 125\n"
     ]
    }
   ],
   "source": [
    "# Read the value of the \"COUNTY_FIP\" field to verify the fip code scheme\n",
    "rows = arcpy.SearchCursor(study_area, fields = \"COUNTY_FIP\")\n",
    "for row in rows:\n",
    "    print(\"COUNTY_FIP: {0}\".format(row.getValue(\"COUNTY_FIP\")))\n",
    "    break"
   ]
  },
  {
   "cell_type": "code",
   "execution_count": 21,
   "metadata": {},
   "outputs": [],
   "source": [
    "# Define SQL expression\n",
    "where_clause = \"{0} OR {1} OR {2} OR {3} OR {4} OR {5} OR {6}\".format(\"COUNTY_FIP = '003'\", \n",
    "                                                                      \"COUNTY_FIP = '053'\", \n",
    "                                                                      \"COUNTY_FIP = '123'\", \n",
    "                                                                      \"COUNTY_FIP = '163'\", \n",
    "                                                                      \"COUNTY_FIP = '037'\", \n",
    "                                                                      \"COUNTY_FIP = '019'\", \n",
    "                                                                      \"COUNTY_FIP = '139'\")"
   ]
  },
  {
   "cell_type": "code",
   "execution_count": 22,
   "metadata": {},
   "outputs": [],
   "source": [
    "# Run the \"Select Layers by Attribute\" tool\n",
    "Metro = arcpy.SelectLayerByAttribute_management(study_area, \"NEW_SELECTION\",\n",
    "                                                where_clause)"
   ]
  },
  {
   "cell_type": "code",
   "execution_count": 23,
   "metadata": {},
   "outputs": [
    {
     "data": {
      "text/plain": [
       "<Result 'C:\\\\Users\\\\user\\\\Documents\\\\ArcGIS\\\\Projects\\\\Assignment 7\\\\Assignment 7.gdb\\\\Metro'>"
      ]
     },
     "execution_count": 23,
     "metadata": {},
     "output_type": "execute_result"
    }
   ],
   "source": [
    "# Export to a new feature class using the \"Copy Features\" tool\n",
    "arcpy.CopyFeatures_management(Metro, 'Metro')"
   ]
  },
  {
   "cell_type": "code",
   "execution_count": 24,
   "metadata": {},
   "outputs": [
    {
     "data": {
      "text/plain": [
       "'NAD_1983_UTM_Zone_15N'"
      ]
     },
     "execution_count": 24,
     "metadata": {},
     "output_type": "execute_result"
    }
   ],
   "source": [
    "# Check the coordinate system\n",
    "arcpy.Describe(\"Metro\").SpatialReference.Name"
   ]
  },
  {
   "cell_type": "markdown",
   "metadata": {},
   "source": [
    "##### Cut accidents to the study area"
   ]
  },
  {
   "cell_type": "markdown",
   "metadata": {},
   "source": [
    "In general, all accidents are supposed to be within our study area but there might be some accidents having coordinate errors. In order to exclude such potential errors, we can run the `Clip` tool to ensure all the accidents are in the study area."
   ]
  },
  {
   "cell_type": "code",
   "execution_count": 25,
   "metadata": {},
   "outputs": [],
   "source": [
    "# Set files names\n",
    "inputfeature = \"Traffic_Accidents\"\n",
    "outputfeature = \"Traffic_Accidents_Metro\"\n",
    "cutter = \"Metro\""
   ]
  },
  {
   "cell_type": "code",
   "execution_count": 26,
   "metadata": {},
   "outputs": [
    {
     "data": {
      "text/plain": [
       "<Result 'C:\\\\Users\\\\user\\\\Documents\\\\ArcGIS\\\\Projects\\\\Assignment 7\\\\Assignment 7.gdb\\\\Traffic_Accidents_Metro'>"
      ]
     },
     "execution_count": 26,
     "metadata": {},
     "output_type": "execute_result"
    }
   ],
   "source": [
    "# Run the \"Clip\" tool\n",
    "arcpy.Clip_analysis(inputfeature, cutter, outputfeature)"
   ]
  },
  {
   "cell_type": "markdown",
   "metadata": {},
   "source": [
    "Perfect!! Now we are all set. We are ready to run the \"Spatial Join\" tool and do some fun statistical analysis. "
   ]
  },
  {
   "cell_type": "markdown",
   "metadata": {},
   "source": [
    "### 2.2 Spatial Join"
   ]
  },
  {
   "cell_type": "markdown",
   "metadata": {},
   "source": [
    "In this tutorial, we are tyring to answer some questions. The questions are as the following:\n",
    ">1. Identify which county has the highest fatal number or injury number caused by accidents in 2016.\n",
    "2. Identify which county has the highest rate of fatal or injury accidents in 2016.\n",
    "3. Identify what accident type most frequently occured and which month and weekday had the highest accident occurence in each county.\n",
    "4. Identify the location of accidents having the highest number of injuries or deaths."
   ]
  },
  {
   "cell_type": "markdown",
   "metadata": {},
   "source": [
    "We will not cover the `Spatial Join` tool explanation in this tutorial, for more information, please refer to this [Esri Help Documentation](https://pro.arcgis.com/en/pro-app/tool-reference/analysis/spatial-join.htm)"
   ]
  },
  {
   "cell_type": "markdown",
   "metadata": {},
   "source": [
    "#### 2.2.1 Identify which county has the highest fatal number or injury number caused by accidents in 2016"
   ]
  },
  {
   "cell_type": "markdown",
   "metadata": {},
   "source": [
    "To answer this question, we need to calculate total \"fatal numbers\" and \"injury numbers\" into the study area. Then, see which county has the highest fatal number and injury number and display its name and corresponding numbers. "
   ]
  },
  {
   "cell_type": "markdown",
   "metadata": {},
   "source": [
    "Two new fields, \"Join_Count\" and \"TARGET_FID\", are always added to the output feature class. \"Join_Count\" indicates how many join features match each target feature.\n",
    "\n",
    "\n",
    "For this analysis, we will create **FieldMappings** object to help use interpret results easier. The **FieldMappings** object is a colection of FieldMap objects and it is used as the parameter value for tools that perform field maping, such as _Merge_ and _Spatial Join_. \n",
    "\n",
    "The procedure to work these objects with python scripts is as the following:\n",
    "\n",
    "1. Create a **FieldMappings** object.\n",
    "2. Initialize its **FieldMap** objects by adding the input feature classes or tables that are to be combined. \n",
    "3. Once all inputs are provided, the **FeildMap** object can be modified as you desired\n",
    "\n",
    "\n",
    "- For more information about `FieldMap`, please refer to this [Esri Help Documentation](https://pro.arcgis.com/en/pro-app/arcpy/classes/fieldmap.htm)"
   ]
  },
  {
   "cell_type": "code",
   "execution_count": 27,
   "metadata": {},
   "outputs": [],
   "source": [
    "# Define files' names\n",
    "target_feature = \"Metro\"\n",
    "join_feature = \"Traffic_Accidents\"\n",
    "output_feature = \"Fatal_or_Injury_Accidents_County\""
   ]
  },
  {
   "cell_type": "code",
   "execution_count": 28,
   "metadata": {},
   "outputs": [],
   "source": [
    "# Creat the required FieldMap and FieldMappings objects\n",
    "fm_injury = arcpy.FieldMap()\n",
    "fm_fatal = arcpy.FieldMap()\n",
    "fm_county = arcpy.FieldMap()\n",
    "fms = arcpy.FieldMappings()\n",
    "\n",
    "# Get the field names of injury and death from original files\n",
    "injury_accidents = \"NUMINJ\"\n",
    "fatal_accidents = \"NUMFAT\"\n",
    "county = \"COUNTY_NAM\"\n",
    "\n",
    "# Add fields to their corresponding FieldMap objects\n",
    "fm_injury.addInputField(join_feature, injury_accidents)\n",
    "fm_fatal.addInputField(join_feature, fatal_accidents)\n",
    "fm_county.addInputField(target_feature, county)\n",
    "\n",
    "# Get the output field's properties as a field object\n",
    "# Rename the field and pass the updated field object back into the field map\n",
    "injury_name = fm_injury.outputField\n",
    "injury_name.name = \"Total Injury\"\n",
    "injury_name.aliasName = \"Total Injury\"\n",
    "fm_injury.outputField = injury_name\n",
    "\n",
    "fatal_name = fm_fatal.outputField\n",
    "fatal_name.name = \"Total Fatal\"\n",
    "fatal_name.aliasName = \"Total Fatal\"\n",
    "fm_fatal.outputField = fatal_name\n",
    "\n",
    "county_name = fm_county.outputField\n",
    "county_name.name = \"County\"\n",
    "county_name.aliasName = \"County\"\n",
    "fm_county.outputField = county_name\n",
    "\n",
    "# Set merge rule to each FieldMap object\n",
    "# Note that merge rules only apply to attribute from the join features\n",
    "# Do not apply merge rules to the target features' attribute\n",
    "fm_injury.mergeRule = \"Sum\"\n",
    "fm_fatal.mergeRule = \"Sum\"\n",
    "\n",
    "\n",
    "# Add the FieldMap objects to the FieldMappings object\n",
    "fms.addFieldMap(fm_county)\n",
    "fms.addFieldMap(fm_injury)\n",
    "fms.addFieldMap(fm_fatal)"
   ]
  },
  {
   "cell_type": "code",
   "execution_count": 29,
   "metadata": {},
   "outputs": [
    {
     "data": {
      "text/plain": [
       "<Result 'C:\\\\Users\\\\user\\\\Documents\\\\ArcGIS\\\\Projects\\\\Assignment 7\\\\Assignment 7.gdb\\\\Fatal_or_Injury_Accidents_County'>"
      ]
     },
     "execution_count": 29,
     "metadata": {},
     "output_type": "execute_result"
    }
   ],
   "source": [
    "# Run the \"Spatial Join\" tool with Fieldmappings object\n",
    "arcpy.SpatialJoin_analysis(target_feature, join_feature, \n",
    "                           output_feature, match_option = \"COMPLETELY_CONTAINS\", \n",
    "                           field_mapping = fms)"
   ]
  },
  {
   "cell_type": "code",
   "execution_count": 30,
   "metadata": {},
   "outputs": [
    {
     "name": "stdout",
     "output_type": "stream",
     "text": [
      "OBJECTID : OID\n",
      "Shape : Geometry\n",
      "Join_Count : Integer\n",
      "TARGET_FID : Integer\n",
      "County : String\n",
      "Total_Injury : Integer\n",
      "Total_Fatal : Integer\n",
      "Shape_Length : Double\n",
      "Shape_Area : Double\n"
     ]
    }
   ],
   "source": [
    "# Let's check each field name and type\n",
    "# Read the fields into a list and display field name and field type\n",
    "fieldlist = arcpy.ListFields(output_feature)\n",
    "\n",
    "for field in fieldlist:\n",
    "    print(field.name,\":\", field.type)"
   ]
  },
  {
   "cell_type": "code",
   "execution_count": 31,
   "metadata": {},
   "outputs": [
    {
     "name": "stdout",
     "output_type": "stream",
     "text": [
      "Hennepin county has the highest injury number casued by car accidents in 2016, the total count is 8112\n"
     ]
    }
   ],
   "source": [
    "# Using the \"SearchCursor\" function to iterate through the feature class and\n",
    "# display the county name and injury number of the county has the highest injury number \n",
    "rows = arcpy.SearchCursor(output_feature, \n",
    "                          fields = \"County; Total_Injury\", \n",
    "                          sort_fields = \"Total_Injury D\")\n",
    "for row in rows:\n",
    "    print(\"{0} {1} {2}\".format(\n",
    "        row.getValue(\"County\"),\n",
    "        \"county has the highest injury number casued by car accidents in 2016, the total count is\",\n",
    "        row.getValue(\"Total_Injury\")))\n",
    "    break"
   ]
  },
  {
   "cell_type": "code",
   "execution_count": 32,
   "metadata": {},
   "outputs": [
    {
     "name": "stdout",
     "output_type": "stream",
     "text": [
      "Hennepin county has the highest fatal number casued by car accidents in 2016, the total count is 47\n"
     ]
    }
   ],
   "source": [
    "# Using the \"SearchCursor\" function to iterate through the feature class and\n",
    "# display the  name and fatal number of the county has the highest fatal number \n",
    "rows = arcpy.SearchCursor(output_feature, \n",
    "                          fields = \"County; Total_Fatal\", \n",
    "                          sort_fields = \"Total_Fatal D\")\n",
    "for row in rows:\n",
    "    print(\"{0} {1} {2}\".format(\n",
    "        row.getValue(\"County\"),\n",
    "        \"county has the highest fatal number casued by car accidents in 2016, the total count is\",\n",
    "        row.getValue(\"Total_Fatal\")))\n",
    "    break"
   ]
  },
  {
   "cell_type": "markdown",
   "metadata": {},
   "source": [
    "#### 2.2.2 Identify which county has the highest rate of fatal or injury accidents in 2016"
   ]
  },
  {
   "cell_type": "markdown",
   "metadata": {},
   "source": [
    "To identify which county has the highest ratio of fatal or injury accidents, we will first categorize accients into three types:\n",
    "> 1. Accidents with deaths but no injuries\n",
    "2. Accidents with injuries but no deaths\n",
    "3. Accidents with injuries and deaths\n",
    "\n",
    "Then, we will run three times spatial join to acquire a table containing **Total number of accidents**, **Total number of accidents with deaths**, **Total number of accidents with injuries**, and **Total number of accidents with injuries and deaths**. Based on these fields, we can caculate the rate of fatal or injury accidents."
   ]
  },
  {
   "cell_type": "code",
   "execution_count": 33,
   "metadata": {},
   "outputs": [],
   "source": [
    "# Define file's name\n",
    "input_feature = \"Traffic_Accidents_Metro\""
   ]
  },
  {
   "cell_type": "markdown",
   "metadata": {},
   "source": [
    "##### Select out fatal accidents"
   ]
  },
  {
   "cell_type": "code",
   "execution_count": 34,
   "metadata": {},
   "outputs": [
    {
     "data": {
      "text/plain": [
       "<Result 'C:\\\\Users\\\\user\\\\Documents\\\\ArcGIS\\\\Projects\\\\Assignment 7\\\\Assignment 7.gdb\\\\Fatal_accidents'>"
      ]
     },
     "execution_count": 34,
     "metadata": {},
     "output_type": "execute_result"
    }
   ],
   "source": [
    "# Define SQL expression\n",
    "# 1 means Yes, 2 means no\n",
    "where_clause = \"Fatal = 1 AND INJURY = 2\"\n",
    "\n",
    "# Run the \"Select Layer by Attribute tool\" to select out accidents with deaths \n",
    "Fatal_accidents = arcpy.SelectLayerByAttribute_management(input_feature, \"NEW_SELECTION\", \n",
    "                                                          where_clause)\n",
    "\n",
    "# Export to a new feature class using the \"Copy Features\" tool\n",
    "arcpy.CopyFeatures_management(Fatal_accidents, 'Fatal_accidents')"
   ]
  },
  {
   "cell_type": "markdown",
   "metadata": {},
   "source": [
    "##### Select out injury accidents"
   ]
  },
  {
   "cell_type": "code",
   "execution_count": 35,
   "metadata": {},
   "outputs": [
    {
     "data": {
      "text/plain": [
       "<Result 'C:\\\\Users\\\\user\\\\Documents\\\\ArcGIS\\\\Projects\\\\Assignment 7\\\\Assignment 7.gdb\\\\Injury_accidents'>"
      ]
     },
     "execution_count": 35,
     "metadata": {},
     "output_type": "execute_result"
    }
   ],
   "source": [
    "# Define SQL expression\n",
    "# 1 means Yes, 2 means no\n",
    "where_clause = \"Fatal = 2 AND INJURY = 1\"\n",
    "\n",
    "# Run the \"Select Layer by Attribute\" tool to select out accidents with injuries\n",
    "Injury_accidents = arcpy.SelectLayerByAttribute_management(input_feature, \"NEW_SELECTION\",\n",
    "                                                where_clause)\n",
    "\n",
    "# Export to a new feature class using the \"Copy Features\" tool\n",
    "arcpy.CopyFeatures_management(Injury_accidents, 'Injury_accidents')"
   ]
  },
  {
   "cell_type": "markdown",
   "metadata": {},
   "source": [
    "##### Select out fatal and injury accidents"
   ]
  },
  {
   "cell_type": "code",
   "execution_count": 36,
   "metadata": {},
   "outputs": [
    {
     "data": {
      "text/plain": [
       "<Result 'C:\\\\Users\\\\user\\\\Documents\\\\ArcGIS\\\\Projects\\\\Assignment 7\\\\Assignment 7.gdb\\\\Fatal_Injury_accidents'>"
      ]
     },
     "execution_count": 36,
     "metadata": {},
     "output_type": "execute_result"
    }
   ],
   "source": [
    "# Define SQL expression\n",
    "# 1 means Yes, 2 means no\n",
    "where_clause = \"Fatal = 1 AND INJURY = 1\"\n",
    "\n",
    "# Run the \"Select Layer by Attribute\" tool to select out accidents with injuries and deaths\n",
    "Fatal_Injury_accidents = arcpy.SelectLayerByAttribute_management(input_feature,\n",
    "                                                                 \"NEW_SELECTION\",\n",
    "                                                                 where_clause)\n",
    "\n",
    "# Export to a new feature class using the \"Copy Features\" tool\n",
    "arcpy.CopyFeatures_management(Fatal_Injury_accidents, 'Fatal_Injury_accidents')"
   ]
  },
  {
   "cell_type": "markdown",
   "metadata": {},
   "source": [
    "#### 2.2.3 Count the number of total accidents"
   ]
  },
  {
   "cell_type": "markdown",
   "metadata": {},
   "source": [
    "- Since we already created a feature class containg total accidents in each county, we will not do that again and will use it as the first target feature."
   ]
  },
  {
   "cell_type": "markdown",
   "metadata": {},
   "source": [
    "###### First time spatial join"
   ]
  },
  {
   "cell_type": "markdown",
   "metadata": {},
   "source": [
    "- Now, we are going to spatial join accidents with injuries to the layer containing total accident number "
   ]
  },
  {
   "cell_type": "code",
   "execution_count": 37,
   "metadata": {},
   "outputs": [],
   "source": [
    "# Define files' names\n",
    "target_feature = \"Total_Accidents_Metro\"\n",
    "join_feature = \"Injury_accidents\"\n",
    "output_feature = \"Injury_Accidents_Metro\""
   ]
  },
  {
   "cell_type": "code",
   "execution_count": 38,
   "metadata": {},
   "outputs": [],
   "source": [
    "# Creat the required FieldMap and FieldMappings objects\n",
    "fm_total = arcpy.FieldMap()\n",
    "fm_county = arcpy.FieldMap()\n",
    "fms = arcpy.FieldMappings()\n",
    "\n",
    "# Get the field names of county and total accidents from original files\n",
    "total_accidents = \"Join_Count\"\n",
    "county = \"COUNTY_NAM\"\n",
    "\n",
    "# Add fields to their corresponding FieldMap objects\n",
    "fm_total.addInputField(target_feature, total_accidents)\n",
    "fm_county.addInputField(target_feature, county)\n",
    "\n",
    "# Get the output field's properties as a field object\n",
    "# Rename the field and pass the updated field object back into the field map\n",
    "total_name = fm_total.outputField\n",
    "total_name.name = \"Total_Accidents\"\n",
    "total_name.aliasName = \"Total_Accidents\"\n",
    "fm_total.outputField = total_name\n",
    "\n",
    "# Add the FieldMap objects to the FieldMappings object\n",
    "fms.addFieldMap(fm_county)\n",
    "fms.addFieldMap(fm_total)"
   ]
  },
  {
   "cell_type": "code",
   "execution_count": 39,
   "metadata": {},
   "outputs": [
    {
     "data": {
      "text/plain": [
       "<Result 'C:\\\\Users\\\\user\\\\Documents\\\\ArcGIS\\\\Projects\\\\Assignment 7\\\\Assignment 7.gdb\\\\Injury_Accidents_Metro'>"
      ]
     },
     "execution_count": 39,
     "metadata": {},
     "output_type": "execute_result"
    }
   ],
   "source": [
    "# Run the \"Spatial Join\" tool with Fieldmappings object\n",
    "arcpy.SpatialJoin_analysis(target_feature, join_feature, \n",
    "                           output_feature, match_option = \"COMPLETELY_CONTAINS\", \n",
    "                           field_mapping = fms)"
   ]
  },
  {
   "cell_type": "markdown",
   "metadata": {},
   "source": [
    "###### Second time spatial join"
   ]
  },
  {
   "cell_type": "markdown",
   "metadata": {},
   "source": [
    "- Spatial join accidents with deaths to the above output layer"
   ]
  },
  {
   "cell_type": "code",
   "execution_count": 40,
   "metadata": {},
   "outputs": [],
   "source": [
    "# Define files' names\n",
    "target_feature = \"Injury_Accidents_Metro\"\n",
    "join_feature = \"Fatal_accidents\"\n",
    "output_feature = \"Injury_Fatal_Accidents_Metro\""
   ]
  },
  {
   "cell_type": "code",
   "execution_count": 41,
   "metadata": {},
   "outputs": [],
   "source": [
    "# Create a new fieldmappings and add table of the target feature class\n",
    "fms = arcpy.FieldMappings()\n",
    "fms.addTable(target_feature)\n",
    "\n",
    "# Get the Join_Count FieldMap through its index. \n",
    "# Join_Count is a field in target feature representing the number of accidents with injuries\n",
    "injury_index = fms.findFieldMapIndex(\"Join_Count\")\n",
    "fm = fms.getFieldMap(injury_index)\n",
    "\n",
    "# Get the output field's properties as a field object\n",
    "injury = fm.outputField\n",
    "# Rename the field and pass the updated field object back into the field map\n",
    "injury.name = \"Total_Injury\"\n",
    "injury.aliasName = \"Total_Injury\"\n",
    "fm.outputField = injury\n",
    "\n",
    "# Delete fields that are no longer applicable, such as TARGET_FID\n",
    "x = fms.findFieldMapIndex(\"TARGET_FID\")\n",
    "fms.removeFieldMap(x)\n",
    "\n",
    "# Replace the old fieldmap\n",
    "fms.replaceFieldMap(injury_index, fm)"
   ]
  },
  {
   "cell_type": "code",
   "execution_count": 42,
   "metadata": {},
   "outputs": [
    {
     "data": {
      "text/plain": [
       "<Result 'C:\\\\Users\\\\user\\\\Documents\\\\ArcGIS\\\\Projects\\\\Assignment 7\\\\Assignment 7.gdb\\\\Injury_Fatal_Accidents_Metro'>"
      ]
     },
     "execution_count": 42,
     "metadata": {},
     "output_type": "execute_result"
    }
   ],
   "source": [
    "# Run the \"Spatial Join\" tool with Fieldmappings object\n",
    "arcpy.SpatialJoin_analysis(target_feature, join_feature, \n",
    "                           output_feature, match_option = \"COMPLETELY_CONTAINS\", \n",
    "                           field_mapping = fms)"
   ]
  },
  {
   "cell_type": "markdown",
   "metadata": {},
   "source": [
    "###### Third time spatial join"
   ]
  },
  {
   "cell_type": "markdown",
   "metadata": {},
   "source": [
    "- Spatial join accidents with deaths and injuries to the above output layer"
   ]
  },
  {
   "cell_type": "code",
   "execution_count": 43,
   "metadata": {},
   "outputs": [],
   "source": [
    "# Define files' names\n",
    "target_feature = \"Injury_Fatal_Accidents_Metro\"\n",
    "join_feature = \"Fatal_Injury_accidents\"\n",
    "output_feature = \"Injury_Fatal_I_F_Accidents_Metro\""
   ]
  },
  {
   "cell_type": "code",
   "execution_count": 44,
   "metadata": {},
   "outputs": [],
   "source": [
    "# Create a new fieldmappings and add table of the target feature class\n",
    "fms = arcpy.FieldMappings()\n",
    "fms.addTable(target_feature)\n",
    "\n",
    "# Get the Join_Count FieldMap through its index. \n",
    "# Join_Count is a field in target feature representing the number of accidents with deaths\n",
    "fatal_index = fms.findFieldMapIndex(\"Join_Count\")\n",
    "fm = fms.getFieldMap(injury_index)\n",
    "\n",
    "# Get the output field's properties as a field object\n",
    "fatal = fm.outputField\n",
    "# Rename the field and pass the updated field object back into the field map\n",
    "fatal.name = \"Total_Fatal\"\n",
    "fatal.aliasName = \"Total_Fatal\"\n",
    "fm.outputField = fatal\n",
    "\n",
    "# Delete fields that are no longer applicable, such as TARGET_FID\n",
    "x = fms.findFieldMapIndex(\"TARGET_FID\")\n",
    "fms.removeFieldMap(x)\n",
    "\n",
    "# Replace the old fieldmap\n",
    "fms.replaceFieldMap(fatal_index, fm)"
   ]
  },
  {
   "cell_type": "code",
   "execution_count": 45,
   "metadata": {},
   "outputs": [
    {
     "data": {
      "text/plain": [
       "<Result 'C:\\\\Users\\\\user\\\\Documents\\\\ArcGIS\\\\Projects\\\\Assignment 7\\\\Assignment 7.gdb\\\\Injury_Fatal_I_F_Accidents_Metro'>"
      ]
     },
     "execution_count": 45,
     "metadata": {},
     "output_type": "execute_result"
    }
   ],
   "source": [
    "# Run the \"Spatial Join\" tool with Fieldmappings object\n",
    "arcpy.SpatialJoin_analysis(target_feature, join_feature, \n",
    "                           output_feature, match_option = \"COMPLETELY_CONTAINS\", \n",
    "                           field_mapping = fms)"
   ]
  },
  {
   "cell_type": "markdown",
   "metadata": {},
   "source": [
    "###### Rate calculation"
   ]
  },
  {
   "cell_type": "markdown",
   "metadata": {},
   "source": [
    "Now our needed information are all set. Next, we will create a new field to calculate the rate."
   ]
  },
  {
   "cell_type": "code",
   "execution_count": 46,
   "metadata": {},
   "outputs": [],
   "source": [
    "# Define file's name\n",
    "input_feature = \"Injury_Fatal_I_F_Accidents_Metro\""
   ]
  },
  {
   "cell_type": "code",
   "execution_count": 47,
   "metadata": {},
   "outputs": [
    {
     "data": {
      "text/plain": [
       "<Result 'C:\\\\Users\\\\user\\\\Documents\\\\ArcGIS\\\\Projects\\\\Assignment 7\\\\Assignment 7.gdb\\\\Injury_Fatal_I_F_Accidents_Metro'>"
      ]
     },
     "execution_count": 47,
     "metadata": {},
     "output_type": "execute_result"
    }
   ],
   "source": [
    "# Define field's name and type\n",
    "Field_name = \"Rate\"\n",
    "Field_type = \"Double\"\n",
    "\n",
    "# Run the Add Field tool \n",
    "arcpy.AddField_management(input_feature, Field_name, Field_type)"
   ]
  },
  {
   "cell_type": "code",
   "execution_count": 48,
   "metadata": {},
   "outputs": [
    {
     "name": "stdout",
     "output_type": "stream",
     "text": [
      "OBJECTID\n",
      "Shape\n",
      "Join_Count\n",
      "TARGET_FID\n",
      "Total_Fatal\n",
      "Total_Injury\n",
      "COUNTY_NAM\n",
      "Total_Accidents\n",
      "Shape_Length\n",
      "Shape_Area\n",
      "Rate\n"
     ]
    }
   ],
   "source": [
    "# Print out all the fields' names in input feature\n",
    "fields = arcpy.ListFields(input_feature)\n",
    "\n",
    "for field in fields:\n",
    "    print(field.name)"
   ]
  },
  {
   "cell_type": "code",
   "execution_count": 49,
   "metadata": {},
   "outputs": [
    {
     "data": {
      "text/plain": [
       "<Result 'C:\\\\Users\\\\user\\\\Documents\\\\ArcGIS\\\\Projects\\\\Assignment 7\\\\Assignment 7.gdb\\\\Injury_Fatal_I_F_Accidents_Metro'>"
      ]
     },
     "execution_count": 49,
     "metadata": {},
     "output_type": "execute_result"
    }
   ],
   "source": [
    "# Define expression\n",
    "expression = \"(!Join_Count! + !Total_Fatal! + !Total_Injury!) / !Total_Accidents!\"\n",
    "\n",
    "# Run the Field Calculator tool \n",
    "arcpy.CalculateField_management(input_feature, Field_name, expression)"
   ]
  },
  {
   "cell_type": "code",
   "execution_count": 50,
   "metadata": {},
   "outputs": [
    {
     "name": "stdout",
     "output_type": "stream",
     "text": [
      "Anoka county has the highest ratio of injury and death accident in 2016, the rate is 0.3453800298062593\n"
     ]
    }
   ],
   "source": [
    "# Using the \"SearchCursor\" function to iterate through the feature class and\n",
    "# display the name and rate of the county has the highest rate \n",
    "rows = arcpy.SearchCursor(input_feature, \n",
    "                          fields = \"County_NAM; Rate\", \n",
    "                          sort_fields = \"Rate D\")\n",
    "for row in rows:\n",
    "    print(\"{0} {1} {2}\".format(\n",
    "        row.getValue(\"County_NAM\"),\n",
    "        \"county has the highest ratio of injury and death accident in 2016, the rate is\",\n",
    "        row.getValue(\"Rate\")))\n",
    "    break"
   ]
  },
  {
   "cell_type": "markdown",
   "metadata": {},
   "source": [
    "#### 2.2.4 Identify what accident type most frequently occured and which month and weekday had the highest accident occurence in each county."
   ]
  },
  {
   "cell_type": "markdown",
   "metadata": {},
   "source": [
    "To answer this question, we will include \"Accident Type\", \"Weekday\", and \"Month\" information to our output table so that we can see what accident type most frequently occured and which month and weekday had the highest accident occurence in each county."
   ]
  },
  {
   "cell_type": "code",
   "execution_count": 51,
   "metadata": {},
   "outputs": [],
   "source": [
    "# Define files' names\n",
    "join_feature = \"Traffic_Accidents_Metro\"\n",
    "target_feature = \"Metro\"\n",
    "output_feature = \"Mode_month_type_Metro\""
   ]
  },
  {
   "cell_type": "code",
   "execution_count": 52,
   "metadata": {},
   "outputs": [],
   "source": [
    "# Creat the required FieldMap and FieldMappings objects\n",
    "fm_month = arcpy.FieldMap()\n",
    "fm_type = arcpy.FieldMap()\n",
    "fm_county = arcpy.FieldMap()\n",
    "fm_day = arcpy.FieldMap()\n",
    "fms = arcpy.FieldMappings()\n",
    "\n",
    "# Get each field name from their original file\n",
    "month = \"MONTH\"\n",
    "atype = \"ACCTYPE\"\n",
    "county = \"COUNTY_NAM\"\n",
    "weekday = \"ACCDAY\"\n",
    "\n",
    "# Add fields to their corresponding FieldMap objects\n",
    "fm_month.addInputField(join_feature, month)\n",
    "fm_type.addInputField(join_feature, atype)\n",
    "fm_day.addInputField(join_feature, weekday)\n",
    "fm_county.addInputField(target_feature, county)\n",
    "\n",
    "# Get the output field's properties as a field object\n",
    "# Rename the field and pass the updated field object back into the field map\n",
    "month_name = fm_month.outputField\n",
    "month_name.name = \"Month\"\n",
    "month_name.aliasName = \"Month\"\n",
    "fm_month.outputField = month_name \n",
    "\n",
    "type_name = fm_type.outputField\n",
    "type_name.name = \"Accident_type\"\n",
    "type_name.aliasName = \"Accident_type\"\n",
    "fm_type.outputField = type_name\n",
    "\n",
    "day_name = fm_day.outputField\n",
    "day_name.name = \"Accident_day\"\n",
    "day_name.aliasName = \"Accident_day\"\n",
    "fm_day.outputField = day_name\n",
    "\n",
    "county_name = fm_county.outputField\n",
    "county_name.name = \"County\"\n",
    "county_name.aliasName = \"County\"\n",
    "fm_county.outputField = county_name\n",
    "\n",
    "# Set merge rule to FieldMaps\n",
    "fm_month.mergeRule = \"Mode\"\n",
    "fm_type.mergeRule = \"Mode\"\n",
    "fm_day.mergeRule = \"Mode\"\n",
    "\n",
    "# Add the FieldMap objects to the FieldMappings object\n",
    "fms.addFieldMap(fm_county)\n",
    "fms.addFieldMap(fm_type)\n",
    "fms.addFieldMap(fm_day)\n",
    "fms.addFieldMap(fm_month)"
   ]
  },
  {
   "cell_type": "code",
   "execution_count": 53,
   "metadata": {},
   "outputs": [
    {
     "data": {
      "text/plain": [
       "<Result 'C:\\\\Users\\\\user\\\\Documents\\\\ArcGIS\\\\Projects\\\\Assignment 7\\\\Assignment 7.gdb\\\\Mode_month_type_Metro'>"
      ]
     },
     "execution_count": 53,
     "metadata": {},
     "output_type": "execute_result"
    }
   ],
   "source": [
    "# Run the \"Spatial Join\" tool with Fieldmappings object\n",
    "arcpy.SpatialJoin_analysis(target_feature, join_feature, \n",
    "                           output_feature, match_option = \"COMPLETELY_CONTAINS\", \n",
    "                           field_mapping = fms)"
   ]
  },
  {
   "cell_type": "code",
   "execution_count": 54,
   "metadata": {},
   "outputs": [
    {
     "name": "stdout",
     "output_type": "stream",
     "text": [
      "OBJECTID\n",
      "Shape\n",
      "Join_Count\n",
      "TARGET_FID\n",
      "County\n",
      "Accident_type\n",
      "Accident_day\n",
      "Month\n",
      "Shape_Length\n",
      "Shape_Area\n"
     ]
    }
   ],
   "source": [
    "# Display fields' names of output feature\n",
    "for field in arcpy.ListFields(output_feature):\n",
    "    print(field.name)"
   ]
  },
  {
   "cell_type": "code",
   "execution_count": 55,
   "metadata": {},
   "outputs": [
    {
     "name": "stdout",
     "output_type": "stream",
     "text": [
      "Accident type: 10 occur most frequently in Hennepin county.\n",
      "Accident type: 10 occur most frequently in Carver county.\n",
      "Accident type: 10 occur most frequently in Ramsey county.\n",
      "Accident type: 10 occur most frequently in Anoka county.\n",
      "Accident type: 10 occur most frequently in Scott county.\n",
      "Accident type: 10 occur most frequently in Washington county.\n",
      "Accident type: 10 occur most frequently in Dakota county.\n"
     ]
    }
   ],
   "source": [
    "# Using the \"SearchCursor\" function to iterate through the feature class and\n",
    "# display county name and prominent accident type in this county \n",
    "rows = arcpy.SearchCursor(output_feature, \n",
    "                          fields = \"County; Accident_type\")\n",
    "for row in rows:\n",
    "    print(\"{0} {1} {2} {3} county.\".format(\n",
    "        \"Accident type:\",\n",
    "        row.getValue(\"Accident_type\"),\n",
    "        \"occur most frequently in\",\n",
    "        row.getValue(\"County\")))"
   ]
  },
  {
   "cell_type": "code",
   "execution_count": 56,
   "metadata": {},
   "outputs": [
    {
     "name": "stdout",
     "output_type": "stream",
     "text": [
      "Month: 12 has the highest occurence of accidents in Hennepin county.\n",
      "Month: 12 has the highest occurence of accidents in Carver county.\n",
      "Month: 12 has the highest occurence of accidents in Ramsey county.\n",
      "Month: 12 has the highest occurence of accidents in Anoka county.\n",
      "Month: 12 has the highest occurence of accidents in Scott county.\n",
      "Month: 12 has the highest occurence of accidents in Washington county.\n",
      "Month: 12 has the highest occurence of accidents in Dakota county.\n"
     ]
    }
   ],
   "source": [
    "# Using the \"SearchCursor\" function to iterate through the feature class and\n",
    "# display county name and the month having the highest occurence of accidents in this county \n",
    "rows = arcpy.SearchCursor(output_feature, \n",
    "                          fields = \"County; Month\")\n",
    "for row in rows:\n",
    "    print(\"{0} {1} {2} {3} county.\".format(\n",
    "        \"Month:\",\n",
    "        row.getValue(\"Month\"),\n",
    "        \"has the highest occurence of accidents in\",\n",
    "        row.getValue(\"County\")))"
   ]
  },
  {
   "cell_type": "code",
   "execution_count": 57,
   "metadata": {},
   "outputs": [
    {
     "name": "stdout",
     "output_type": "stream",
     "text": [
      "Weekday: 3 has the highest occurence of accidents in Hennepin county.\n",
      "Weekday: 4 has the highest occurence of accidents in Carver county.\n",
      "Weekday: 6 has the highest occurence of accidents in Ramsey county.\n",
      "Weekday: 6 has the highest occurence of accidents in Anoka county.\n",
      "Weekday: 2 has the highest occurence of accidents in Scott county.\n",
      "Weekday: 6 has the highest occurence of accidents in Washington county.\n",
      "Weekday: 6 has the highest occurence of accidents in Dakota county.\n"
     ]
    }
   ],
   "source": [
    "# Using the \"SearchCursor\" function to iterate through the feature class and\n",
    "# display county name and the weekday having the highest occurence of accidents in this county \n",
    "rows = arcpy.SearchCursor(output_feature, \n",
    "                          fields = \"County; Accident_day\")\n",
    "for row in rows:\n",
    "    print(\"{0} {1} {2} {3} county.\".format(\n",
    "        \"Weekday:\",\n",
    "        row.getValue(\"Accident_day\"),\n",
    "        \"has the highest occurence of accidents in\",\n",
    "        row.getValue(\"County\")))"
   ]
  },
  {
   "cell_type": "markdown",
   "metadata": {},
   "source": [
    "#### 2.2.5 Identify the location of accidents having the highest number of injuries or deaths."
   ]
  },
  {
   "cell_type": "markdown",
   "metadata": {},
   "source": [
    "To answer this question, we will spatial join \"Study Area\" into \"Accidents\" in that county name information will be included into the output table so that we can know the county each accident locates in. "
   ]
  },
  {
   "cell_type": "code",
   "execution_count": 58,
   "metadata": {},
   "outputs": [],
   "source": [
    "# Define files' names\n",
    "target_feature = \"Traffic_Accidents_Metro\"\n",
    "join_feature = \"Metro\"\n",
    "output_feature = \"Traffic_Accidents_Locations\""
   ]
  },
  {
   "cell_type": "code",
   "execution_count": 59,
   "metadata": {},
   "outputs": [],
   "source": [
    "# Creat the required FieldMap and FieldMappings objects\n",
    "fm_county = arcpy.FieldMap()\n",
    "fm_fatalnum = arcpy.FieldMap()\n",
    "fm_injurynum = arcpy.FieldMap()\n",
    "fms = arcpy.FieldMappings()\n",
    "\n",
    "# Get each field name from their original file\n",
    "county = \"COUNTY_NAM\"\n",
    "fatalnum = \"NUMFAT\"\n",
    "injurynum = \"NUMINJ\"\n",
    "\n",
    "# Add fields to their corresponding FieldMap objects\n",
    "fm_county.addInputField(join_feature, county)\n",
    "fm_fatalnum.addInputField(target_feature, fatalnum)\n",
    "fm_injurynum.addInputField(target_feature, injurynum)\n",
    "\n",
    "# Get the output field's properties as a field object\n",
    "# Rename the field and pass the updated field object back into the field map\n",
    "county_name = fm_county.outputField\n",
    "county_name.name = \"County\"\n",
    "county_name.aliasName = \"County\"\n",
    "fm_county.outputField = county_name\n",
    "\n",
    "fatal_name = fm_fatalnum.outputField\n",
    "fatal_name.name = \"Fatal_Number\"\n",
    "county_name.aliasName = \"Fatal_Number\"\n",
    "fm_fatalnum.outputField = fatal_name\n",
    "\n",
    "injury_name = fm_injurynum.outputField\n",
    "injury_name.name = \"Injury_Number\"\n",
    "injury_name.aliasName = \"Injury_Number\"\n",
    "fm_injurynum.outputField = injury_name\n",
    "\n",
    "# Set merge rule to FieldMap\n",
    "fm_county.mergeRule = \"First\"\n",
    "\n",
    "# Add the FieldMap objects to the FieldMappings object\n",
    "fms.addFieldMap(fm_county)\n",
    "fms.addFieldMap(fm_fatalnum)\n",
    "fms.addFieldMap(fm_injurynum)"
   ]
  },
  {
   "cell_type": "code",
   "execution_count": 60,
   "metadata": {},
   "outputs": [
    {
     "data": {
      "text/plain": [
       "<Result 'C:\\\\Users\\\\user\\\\Documents\\\\ArcGIS\\\\Projects\\\\Assignment 7\\\\Assignment 7.gdb\\\\Traffic_Accidents_Locations'>"
      ]
     },
     "execution_count": 60,
     "metadata": {},
     "output_type": "execute_result"
    }
   ],
   "source": [
    "# Run the Spatial Join tool with Fieldmappings object\n",
    "arcpy.SpatialJoin_analysis(target_feature, join_feature, output_feature, \n",
    "                           join_operation = \"JOIN_ONE_TO_MANY\", match_option = \"COMPLETELY_WITHIN\", \n",
    "                           field_mapping = fms)"
   ]
  },
  {
   "cell_type": "code",
   "execution_count": 61,
   "metadata": {},
   "outputs": [
    {
     "name": "stdout",
     "output_type": "stream",
     "text": [
      "Accidents with the highest number of deaths: 3 is located in Dakota county.\n",
      "Accidents with the highest number of deaths: 3 is located in Hennepin county.\n",
      "Accidents with the highest number of deaths: 2 is located in Anoka county.\n",
      "Accidents with the highest number of deaths: 2 is located in Dakota county.\n",
      "Accidents with the highest number of deaths: 2 is located in Ramsey county.\n",
      "Accidents with the highest number of deaths: 2 is located in Anoka county.\n"
     ]
    }
   ],
   "source": [
    "# Using the \"SearchCursor\" function to iterate through the feature class and\n",
    "# display county name and prominent accident type in this county \n",
    "# Since there might be accidents having the same number of deaths,\n",
    "# we will print out the first five rows of records\n",
    "rows = arcpy.SearchCursor(output_feature, \n",
    "                          fields = \"County; Fatal_Number D\", \n",
    "                          sort_fields = \"Fatal_Number D\")\n",
    "\n",
    "i = 0\n",
    "for row in rows:\n",
    "    print(\"{0} {1} {2} {3} county.\".format(\n",
    "        \"Accidents with the highest number of deaths:\",\n",
    "        row.getValue(\"Fatal_Number\"),\n",
    "        \"is located in\",\n",
    "        row.getValue(\"County\")))\n",
    "    i += 1\n",
    "    if i >5:\n",
    "        break"
   ]
  },
  {
   "cell_type": "code",
   "execution_count": 62,
   "metadata": {},
   "outputs": [
    {
     "name": "stdout",
     "output_type": "stream",
     "text": [
      "Accidents with the highest number of injuries: 18 is located in Hennepin county.\n",
      "Accidents with the highest number of injuries: 9 is located in Hennepin county.\n",
      "Accidents with the highest number of injuries: 8 is located in Hennepin county.\n",
      "Accidents with the highest number of injuries: 8 is located in Ramsey county.\n",
      "Accidents with the highest number of injuries: 7 is located in Hennepin county.\n",
      "Accidents with the highest number of injuries: 7 is located in Anoka county.\n"
     ]
    }
   ],
   "source": [
    "# Using the \"SearchCursor\" function to iterate through the feature class and\n",
    "# display county name and prominent accident type in this county \n",
    "# Since there might be accidents having the same number of deaths,\n",
    "# we will print out the first five rows of records\n",
    "rows = arcpy.SearchCursor(output_feature, \n",
    "                          fields = \"County; Injury_Number D\", \n",
    "                          sort_fields = \"Injury_Number D\")\n",
    "\n",
    "i = 0\n",
    "for row in rows:\n",
    "    print(\"{0} {1} {2} {3} county.\".format(\n",
    "        \"Accidents with the highest number of injuries:\",\n",
    "        row.getValue(\"Injury_Number\"),\n",
    "        \"is located in\",\n",
    "        row.getValue(\"County\")))\n",
    "    i += 1\n",
    "    if i >5:\n",
    "        break"
   ]
  },
  {
   "cell_type": "markdown",
   "metadata": {},
   "source": [
    "## 3. Conclusion"
   ]
  },
  {
   "cell_type": "markdown",
   "metadata": {},
   "source": [
    "In this tutorial, we cover a wide range of topic including data cleanup, feature selection, spatial join, and result interpretation. After finishing this tutorial, you are expected to understand the advanced usage of the `Spatial Join` tool and how `Python` and `Arcpy` can aid in answering complex geospatial questions in an efficient and elegant manner. \n",
    "\n",
    "For more question about this tutorial, please email to lin00297@umn.edu."
   ]
  }
 ],
 "metadata": {
  "kernelspec": {
   "display_name": "Python 3",
   "language": "python",
   "name": "python3"
  },
  "language_info": {
   "codemirror_mode": {
    "name": "ipython",
    "version": 3
   },
   "file_extension": ".py",
   "mimetype": "text/x-python",
   "name": "python",
   "nbconvert_exporter": "python",
   "pygments_lexer": "ipython3",
   "version": "3.8.3"
  },
  "toc": {
   "base_numbering": 1,
   "nav_menu": {},
   "number_sections": false,
   "sideBar": true,
   "skip_h1_title": false,
   "title_cell": "Table of Contents",
   "title_sidebar": "Contents",
   "toc_cell": false,
   "toc_position": {},
   "toc_section_display": true,
   "toc_window_display": true
  },
  "varInspector": {
   "cols": {
    "lenName": 16,
    "lenType": 16,
    "lenVar": 40
   },
   "kernels_config": {
    "python": {
     "delete_cmd_postfix": "",
     "delete_cmd_prefix": "del ",
     "library": "var_list.py",
     "varRefreshCmd": "print(var_dic_list())"
    },
    "r": {
     "delete_cmd_postfix": ") ",
     "delete_cmd_prefix": "rm(",
     "library": "var_list.r",
     "varRefreshCmd": "cat(var_dic_list()) "
    }
   },
   "types_to_exclude": [
    "module",
    "function",
    "builtin_function_or_method",
    "instance",
    "_Feature"
   ],
   "window_display": false
  }
 },
 "nbformat": 4,
 "nbformat_minor": 2
}
